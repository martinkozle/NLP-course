{
 "cells": [
  {
   "cell_type": "markdown",
   "metadata": {},
   "source": [
    "# Laboratory exercise 4"
   ]
  },
  {
   "cell_type": "markdown",
   "metadata": {},
   "source": [
    "## Imports"
   ]
  },
  {
   "cell_type": "code",
   "execution_count": 1,
   "metadata": {},
   "outputs": [],
   "source": [
    "import matplotlib.pyplot as plt\n",
    "import pandas as pd\n",
    "import seaborn as sns\n",
    "import torch\n",
    "from sklearn.manifold import TSNE\n",
    "from sklearn.metrics import classification_report\n",
    "from sklearn.model_selection import train_test_split\n",
    "from torch import nn\n",
    "from torch.optim import Adam\n",
    "from tqdm import tqdm\n",
    "from transformers import (AlbertModel, AlbertTokenizer, BertModel,\n",
    "                          BertTokenizer, DistilBertModel, DistilBertTokenizer,\n",
    "                          RobertaModel, RobertaTokenizer)"
   ]
  },
  {
   "cell_type": "markdown",
   "metadata": {},
   "source": [
    "## Read data"
   ]
  },
  {
   "cell_type": "code",
   "execution_count": 2,
   "metadata": {},
   "outputs": [],
   "source": [
    "df = pd.read_csv('training.csv', sep='\\t')"
   ]
  },
  {
   "cell_type": "code",
   "execution_count": 3,
   "metadata": {},
   "outputs": [
    {
     "data": {
      "text/html": [
       "<div>\n",
       "<style scoped>\n",
       "    .dataframe tbody tr th:only-of-type {\n",
       "        vertical-align: middle;\n",
       "    }\n",
       "\n",
       "    .dataframe tbody tr th {\n",
       "        vertical-align: top;\n",
       "    }\n",
       "\n",
       "    .dataframe thead th {\n",
       "        text-align: right;\n",
       "    }\n",
       "</style>\n",
       "<table border=\"1\" class=\"dataframe\">\n",
       "  <thead>\n",
       "    <tr style=\"text-align: right;\">\n",
       "      <th></th>\n",
       "      <th>file_name</th>\n",
       "      <th>misogynous</th>\n",
       "      <th>shaming</th>\n",
       "      <th>stereotype</th>\n",
       "      <th>objectification</th>\n",
       "      <th>violence</th>\n",
       "      <th>Text Transcription</th>\n",
       "    </tr>\n",
       "  </thead>\n",
       "  <tbody>\n",
       "    <tr>\n",
       "      <th>0</th>\n",
       "      <td>1.jpg</td>\n",
       "      <td>0</td>\n",
       "      <td>0</td>\n",
       "      <td>0</td>\n",
       "      <td>0</td>\n",
       "      <td>0</td>\n",
       "      <td>Milk Milk.zip</td>\n",
       "    </tr>\n",
       "    <tr>\n",
       "      <th>1</th>\n",
       "      <td>10.jpg</td>\n",
       "      <td>1</td>\n",
       "      <td>0</td>\n",
       "      <td>0</td>\n",
       "      <td>0</td>\n",
       "      <td>1</td>\n",
       "      <td>ROSES ARE RED, VIOLETS ARE BLUE IF YOU DON'T S...</td>\n",
       "    </tr>\n",
       "    <tr>\n",
       "      <th>2</th>\n",
       "      <td>1000.jpg</td>\n",
       "      <td>0</td>\n",
       "      <td>0</td>\n",
       "      <td>0</td>\n",
       "      <td>0</td>\n",
       "      <td>0</td>\n",
       "      <td>BREAKING NEWS: Russia releases photo of DONALD...</td>\n",
       "    </tr>\n",
       "    <tr>\n",
       "      <th>3</th>\n",
       "      <td>10000.jpg</td>\n",
       "      <td>0</td>\n",
       "      <td>0</td>\n",
       "      <td>0</td>\n",
       "      <td>0</td>\n",
       "      <td>0</td>\n",
       "      <td>MAN SEEKING WOMAN Ignad 18 O</td>\n",
       "    </tr>\n",
       "    <tr>\n",
       "      <th>4</th>\n",
       "      <td>10006.jpg</td>\n",
       "      <td>0</td>\n",
       "      <td>0</td>\n",
       "      <td>0</td>\n",
       "      <td>0</td>\n",
       "      <td>0</td>\n",
       "      <td>Me explaining the deep lore of. J.R.R. Tolkein...</td>\n",
       "    </tr>\n",
       "    <tr>\n",
       "      <th>...</th>\n",
       "      <td>...</td>\n",
       "      <td>...</td>\n",
       "      <td>...</td>\n",
       "      <td>...</td>\n",
       "      <td>...</td>\n",
       "      <td>...</td>\n",
       "      <td>...</td>\n",
       "    </tr>\n",
       "    <tr>\n",
       "      <th>9995</th>\n",
       "      <td>15002.jpg</td>\n",
       "      <td>0</td>\n",
       "      <td>0</td>\n",
       "      <td>0</td>\n",
       "      <td>0</td>\n",
       "      <td>0</td>\n",
       "      <td>WAITING FOR THE END OF THE COVID  imgflip.com</td>\n",
       "    </tr>\n",
       "    <tr>\n",
       "      <th>9996</th>\n",
       "      <td>15003.jpg</td>\n",
       "      <td>0</td>\n",
       "      <td>0</td>\n",
       "      <td>0</td>\n",
       "      <td>0</td>\n",
       "      <td>0</td>\n",
       "      <td>SMART WOMEN ARE AROUND  imgflip.com</td>\n",
       "    </tr>\n",
       "    <tr>\n",
       "      <th>9997</th>\n",
       "      <td>15004.jpg</td>\n",
       "      <td>0</td>\n",
       "      <td>0</td>\n",
       "      <td>0</td>\n",
       "      <td>0</td>\n",
       "      <td>0</td>\n",
       "      <td>GOOD GIRLS ARE BEHIND THE CORNER  imgflip.com</td>\n",
       "    </tr>\n",
       "    <tr>\n",
       "      <th>9998</th>\n",
       "      <td>15005.jpg</td>\n",
       "      <td>0</td>\n",
       "      <td>0</td>\n",
       "      <td>0</td>\n",
       "      <td>0</td>\n",
       "      <td>0</td>\n",
       "      <td>COOKING FOR MY WIFE  imgflip.com</td>\n",
       "    </tr>\n",
       "    <tr>\n",
       "      <th>9999</th>\n",
       "      <td>15006.jpg</td>\n",
       "      <td>0</td>\n",
       "      <td>0</td>\n",
       "      <td>0</td>\n",
       "      <td>0</td>\n",
       "      <td>0</td>\n",
       "      <td>LISTEN TOMORROW WILL BE MONDAY imgflip.com FRO...</td>\n",
       "    </tr>\n",
       "  </tbody>\n",
       "</table>\n",
       "<p>10000 rows × 7 columns</p>\n",
       "</div>"
      ],
      "text/plain": [
       "      file_name  misogynous  shaming  stereotype  objectification  violence  \\\n",
       "0         1.jpg           0        0           0                0         0   \n",
       "1        10.jpg           1        0           0                0         1   \n",
       "2      1000.jpg           0        0           0                0         0   \n",
       "3     10000.jpg           0        0           0                0         0   \n",
       "4     10006.jpg           0        0           0                0         0   \n",
       "...         ...         ...      ...         ...              ...       ...   \n",
       "9995  15002.jpg           0        0           0                0         0   \n",
       "9996  15003.jpg           0        0           0                0         0   \n",
       "9997  15004.jpg           0        0           0                0         0   \n",
       "9998  15005.jpg           0        0           0                0         0   \n",
       "9999  15006.jpg           0        0           0                0         0   \n",
       "\n",
       "                                     Text Transcription  \n",
       "0                                         Milk Milk.zip  \n",
       "1     ROSES ARE RED, VIOLETS ARE BLUE IF YOU DON'T S...  \n",
       "2     BREAKING NEWS: Russia releases photo of DONALD...  \n",
       "3                          MAN SEEKING WOMAN Ignad 18 O  \n",
       "4     Me explaining the deep lore of. J.R.R. Tolkein...  \n",
       "...                                                 ...  \n",
       "9995      WAITING FOR THE END OF THE COVID  imgflip.com  \n",
       "9996                SMART WOMEN ARE AROUND  imgflip.com  \n",
       "9997      GOOD GIRLS ARE BEHIND THE CORNER  imgflip.com  \n",
       "9998                   COOKING FOR MY WIFE  imgflip.com  \n",
       "9999  LISTEN TOMORROW WILL BE MONDAY imgflip.com FRO...  \n",
       "\n",
       "[10000 rows x 7 columns]"
      ]
     },
     "execution_count": 3,
     "metadata": {},
     "output_type": "execute_result"
    }
   ],
   "source": [
    "df"
   ]
  },
  {
   "cell_type": "markdown",
   "metadata": {},
   "source": [
    "## Create models"
   ]
  },
  {
   "cell_type": "code",
   "execution_count": 4,
   "metadata": {},
   "outputs": [],
   "source": [
    "class BaseDataset(torch.utils.data.Dataset):\n",
    "    def __init__(self, df, tokenizer):\n",
    "        self.encodings = tokenizer(df['Text Transcription'].tolist(), padding='longest',\n",
    "                                   return_tensors='pt')\n",
    "        # self.encodings = [\n",
    "        #     tokenizer(text, padding='longest', return_tensors=\"pt\")\n",
    "        #     for text in df['Text Transcription']]\n",
    "\n",
    "    def classes(self):\n",
    "        return self.labels\n",
    "\n",
    "    def __len__(self):\n",
    "        return len(self.labels)\n",
    "\n",
    "    def __getitem__(self, idx):\n",
    "        encoding = {k: v[idx] for k, v in self.encodings.items()}\n",
    "        return {\n",
    "            'input_ids': encoding['input_ids'].flatten(),\n",
    "            'attention_mask': encoding['attention_mask'].flatten(),\n",
    "            'target': torch.tensor(self.labels[idx], dtype=torch.float)\n",
    "        }\n",
    "\n",
    "\n",
    "class DatasetA(BaseDataset):\n",
    "    def __init__(self, df, tokenizer):\n",
    "        super().__init__(df, tokenizer)\n",
    "        self.labels = pd.get_dummies(df['misogynous']).values\n",
    "\n",
    "\n",
    "class DatasetB(BaseDataset):\n",
    "    def __init__(self, df, tokenizer):\n",
    "        super().__init__(df, tokenizer)\n",
    "        label_map = {'shaming': 0, 'stereotype': 1, 'objectification': 2, 'violence': 3}\n",
    "        self.labels = df[['shaming', 'stereotype', 'objectification', 'violence']].values"
   ]
  },
  {
   "cell_type": "code",
   "execution_count": 5,
   "metadata": {},
   "outputs": [],
   "source": [
    "class TransformerClassifier(nn.Module):\n",
    "    def __init__(self, transformer_model, num_labels):\n",
    "        super(TransformerClassifier, self).__init__()\n",
    "\n",
    "        self.transformer = transformer_model\n",
    "        self.dropout = nn.Dropout(0.3)\n",
    "        self.linear = nn.Linear(\n",
    "            self.transformer.config.hidden_size, num_labels)\n",
    "        self.softmax = nn.Softmax(dim=1)\n",
    "\n",
    "    def forward(self, input_id, mask, return_bert_output=False):\n",
    "        transformer_out = self.transformer(\n",
    "            input_ids=input_id, attention_mask=mask, return_dict=False)\n",
    "        if len(transformer_out) == 1:\n",
    "            # distilbert returns only a tuple with a single tensor\n",
    "            # and by the shape it is the whole history, IDK WHY!?!?\n",
    "            pooled_output = transformer_out[0][:, -1, :]\n",
    "        else:\n",
    "            pooled_output = transformer_out[1]\n",
    "        dropout_output = self.dropout(pooled_output)\n",
    "        linear_output = self.linear(dropout_output)\n",
    "        final_layer = self.softmax(linear_output)\n",
    "        if return_bert_output:\n",
    "            return final_layer, pooled_output\n",
    "        return final_layer\n"
   ]
  },
  {
   "cell_type": "code",
   "execution_count": 6,
   "metadata": {},
   "outputs": [],
   "source": [
    "def train_val_test_split(df):\n",
    "    df_train_val, df_test = train_test_split(\n",
    "        df, test_size=0.1, random_state=42, shuffle=True)\n",
    "    df_train, df_val = train_test_split(df_train_val, test_size=0.1, random_state=42)\n",
    "\n",
    "    return df_train, df_val, df_test"
   ]
  },
  {
   "cell_type": "code",
   "execution_count": 7,
   "metadata": {},
   "outputs": [],
   "source": [
    "def train(model, tokenizer, df_train, df_val, subtask, learning_rate=1e-5, batch_size=32, epochs=5, use_cuda=True):\n",
    "    if subtask.lower() == 'a':\n",
    "        output_len = 1\n",
    "        dataset_train = DatasetA(df_train, tokenizer)\n",
    "        dataset_val = DatasetA(df_val, tokenizer)\n",
    "    elif subtask.lower() == 'b':\n",
    "        output_len = 5\n",
    "        dataset_train = DatasetB(df_train, tokenizer)\n",
    "        dataset_val = DatasetB(df_val, tokenizer)\n",
    "    else:\n",
    "        raise ValueError('Subtask must be either A or B')\n",
    "\n",
    "    train_dataloader = torch.utils.data.DataLoader(\n",
    "        dataset_train, batch_size=batch_size, shuffle=True)\n",
    "    val_dataloader = torch.utils.data.DataLoader(\n",
    "        dataset_val, batch_size=batch_size)\n",
    "\n",
    "    use_cuda = use_cuda and torch.cuda.is_available()\n",
    "    device = torch.device('cuda' if use_cuda else 'cpu')\n",
    "    print(f'Training on device: {device}')\n",
    "\n",
    "    if use_cuda:\n",
    "        model = model.cuda()\n",
    "        \n",
    "    criterion = nn.CrossEntropyLoss().to(device)\n",
    "    optimizer = Adam(model.parameters(), lr=learning_rate)\n",
    "    for epoch_num in range(epochs):\n",
    "        total_acc_train = 0\n",
    "        total_loss_train = 0\n",
    "\n",
    "        for data in tqdm(train_dataloader):\n",
    "\n",
    "            train_target = data['target'].to(device)\n",
    "            mask = data['attention_mask'].to(device)\n",
    "            input_id = data['input_ids'].to(device)\n",
    "\n",
    "            output = model(input_id, mask)\n",
    "            \n",
    "            _, preds = torch.max(output, dim=1)\n",
    "\n",
    "            batch_loss = criterion(output, train_target)\n",
    "            total_loss_train += batch_loss.item()\n",
    "\n",
    "            acc = (preds == torch.max(train_target, dim=1)[1]).sum().item()\n",
    "            total_acc_train += acc\n",
    "\n",
    "            model.zero_grad()\n",
    "            batch_loss.backward()\n",
    "            optimizer.step()\n",
    "\n",
    "        total_acc_val = 0\n",
    "        total_loss_val = 0\n",
    "\n",
    "        with torch.no_grad():\n",
    "\n",
    "            for data in val_dataloader:\n",
    "\n",
    "                val_target = data['target'].to(device)\n",
    "                mask = data['attention_mask'].to(device)\n",
    "                input_id = data['input_ids'].to(device)\n",
    "\n",
    "                output = model(input_id, mask)\n",
    "                \n",
    "                _, preds = torch.max(output, dim=1)\n",
    "\n",
    "                batch_loss = criterion(output, val_target)\n",
    "                total_loss_val += batch_loss.item()\n",
    "\n",
    "                acc = (preds == torch.max(val_target, dim=1)[1]).sum().item()\n",
    "                total_acc_val += acc\n",
    "\n",
    "        print(\n",
    "            f'Epochs: {epoch_num + 1} '\n",
    "            f'| Train Loss: {total_loss_train / len(df_train): .3f} '\n",
    "            f'| Train Accuracy: {total_acc_train / len(df_train): .3f} '\n",
    "            f'| Val Loss: {total_loss_val / len(df_val): .3f} '\n",
    "            f'| Val Accuracy: {total_acc_val / len(df_val): .3f}')\n"
   ]
  },
  {
   "cell_type": "code",
   "execution_count": 8,
   "metadata": {},
   "outputs": [],
   "source": [
    "def evaluate(model, tokenizer, df_test, subtask, batch_size=32, use_cuda=True):\n",
    "    if subtask.lower() == 'a':\n",
    "        test_dataset = DatasetA(df_test, tokenizer)\n",
    "    elif subtask.lower() == 'b':\n",
    "        test_dataset = DatasetB(df_test, tokenizer)\n",
    "    else:\n",
    "        raise ValueError('Subtask must be either A or B')\n",
    "\n",
    "    test_dataloader = torch.utils.data.DataLoader(\n",
    "        test_dataset, batch_size=batch_size)\n",
    "\n",
    "    use_cuda = use_cuda and torch.cuda.is_available()\n",
    "    device = torch.device(\"cuda\" if use_cuda else \"cpu\")\n",
    "\n",
    "    if use_cuda:\n",
    "        model = model.cuda()\n",
    "\n",
    "    total_acc_test = 0\n",
    "    \n",
    "    bert_outputs = []\n",
    "    masks = []\n",
    "    y_true = []\n",
    "    y_pred = []\n",
    "\n",
    "    with torch.no_grad():\n",
    "        for data in test_dataloader:\n",
    "\n",
    "            test_target = data['target'].to(device)\n",
    "            mask = data['attention_mask'].to(device)\n",
    "            input_id = data['input_ids'].to(device)\n",
    "\n",
    "            output, bert_output = model(\n",
    "                input_id, mask, return_bert_output=True)\n",
    "\n",
    "            _, true = torch.max(test_target, dim=1)\n",
    "            _, preds = torch.max(output, dim=1)\n",
    "            \n",
    "            bert_outputs += bert_output.cpu()\n",
    "            masks += mask.cpu()\n",
    "            y_true += true.tolist()\n",
    "            y_pred += preds.tolist()\n",
    "            acc = (preds == torch.max(test_target, dim=1)[1]).sum().item()\n",
    "            total_acc_test += acc\n",
    "\n",
    "    print(f'Test Accuracy: {total_acc_test / len(test_dataset): .3f}')\n",
    "    return bert_outputs, masks, y_true, y_pred\n"
   ]
  },
  {
   "cell_type": "code",
   "execution_count": 9,
   "metadata": {},
   "outputs": [],
   "source": [
    "def get_bert_tokenizer_and_model():\n",
    "    return (\n",
    "        BertTokenizer.from_pretrained('bert-base-uncased'),\n",
    "        BertModel.from_pretrained('bert-base-uncased')\n",
    "    )\n",
    "\n",
    "\n",
    "def get_albert_tokenizer_and_model():\n",
    "    return (\n",
    "        AlbertTokenizer.from_pretrained('albert-base-v2'),\n",
    "        AlbertModel.from_pretrained('albert-base-v2')\n",
    "    )\n",
    "\n",
    "\n",
    "def get_robert_tokenizer_and_model():\n",
    "    return (\n",
    "        RobertaTokenizer.from_pretrained('roberta-base'),\n",
    "        RobertaModel.from_pretrained('roberta-base')\n",
    "    )\n",
    "\n",
    "\n",
    "def get_distilbert_tokenizer_and_model():\n",
    "    return (\n",
    "        DistilBertTokenizer.from_pretrained('distilbert-base-uncased'),\n",
    "        DistilBertModel.from_pretrained('distilbert-base-uncased')\n",
    "    )"
   ]
  },
  {
   "cell_type": "markdown",
   "metadata": {},
   "source": [
    "## Subtask A"
   ]
  },
  {
   "cell_type": "code",
   "execution_count": 10,
   "metadata": {},
   "outputs": [],
   "source": [
    "target_names_A = ['not_mysogynous', 'mysogynous']"
   ]
  },
  {
   "cell_type": "code",
   "execution_count": 11,
   "metadata": {},
   "outputs": [
    {
     "name": "stderr",
     "output_type": "stream",
     "text": [
      "Some weights of the model checkpoint at bert-base-uncased were not used when initializing BertModel: ['cls.predictions.transform.dense.bias', 'cls.predictions.transform.LayerNorm.bias', 'cls.seq_relationship.bias', 'cls.predictions.bias', 'cls.predictions.transform.dense.weight', 'cls.predictions.decoder.weight', 'cls.predictions.transform.LayerNorm.weight', 'cls.seq_relationship.weight']\n",
      "- This IS expected if you are initializing BertModel from the checkpoint of a model trained on another task or with another architecture (e.g. initializing a BertForSequenceClassification model from a BertForPreTraining model).\n",
      "- This IS NOT expected if you are initializing BertModel from the checkpoint of a model that you expect to be exactly identical (initializing a BertForSequenceClassification model from a BertForSequenceClassification model).\n"
     ]
    },
    {
     "name": "stdout",
     "output_type": "stream",
     "text": [
      "Training on device: cuda\n"
     ]
    },
    {
     "name": "stderr",
     "output_type": "stream",
     "text": [
      "100%|██████████| 254/254 [01:23<00:00,  3.03it/s]\n"
     ]
    },
    {
     "name": "stdout",
     "output_type": "stream",
     "text": [
      "Epochs: 1 | Train Loss:  0.018 | Train Accuracy:  0.725 | Val Loss:  0.016 | Val Accuracy:  0.802\n"
     ]
    },
    {
     "name": "stderr",
     "output_type": "stream",
     "text": [
      "100%|██████████| 254/254 [01:24<00:00,  3.02it/s]\n"
     ]
    },
    {
     "name": "stdout",
     "output_type": "stream",
     "text": [
      "Epochs: 2 | Train Loss:  0.015 | Train Accuracy:  0.850 | Val Loss:  0.016 | Val Accuracy:  0.802\n"
     ]
    },
    {
     "name": "stderr",
     "output_type": "stream",
     "text": [
      "100%|██████████| 254/254 [01:24<00:00,  3.02it/s]\n"
     ]
    },
    {
     "name": "stdout",
     "output_type": "stream",
     "text": [
      "Epochs: 3 | Train Loss:  0.013 | Train Accuracy:  0.901 | Val Loss:  0.016 | Val Accuracy:  0.784\n"
     ]
    },
    {
     "name": "stderr",
     "output_type": "stream",
     "text": [
      "100%|██████████| 254/254 [01:24<00:00,  3.01it/s]\n"
     ]
    },
    {
     "name": "stdout",
     "output_type": "stream",
     "text": [
      "Epochs: 4 | Train Loss:  0.012 | Train Accuracy:  0.928 | Val Loss:  0.016 | Val Accuracy:  0.792\n",
      "Test Accuracy:  0.802\n",
      "                precision    recall  f1-score   support\n",
      "\n",
      "not_mysogynous       0.75      0.89      0.81       484\n",
      "    mysogynous       0.88      0.72      0.79       516\n",
      "\n",
      "      accuracy                           0.80      1000\n",
      "     macro avg       0.81      0.80      0.80      1000\n",
      "  weighted avg       0.81      0.80      0.80      1000\n",
      "\n"
     ]
    },
    {
     "name": "stderr",
     "output_type": "stream",
     "text": [
      "Some weights of the model checkpoint at albert-base-v2 were not used when initializing AlbertModel: ['predictions.dense.bias', 'predictions.dense.weight', 'predictions.decoder.bias', 'predictions.LayerNorm.bias', 'predictions.bias', 'predictions.LayerNorm.weight', 'predictions.decoder.weight']\n",
      "- This IS expected if you are initializing AlbertModel from the checkpoint of a model trained on another task or with another architecture (e.g. initializing a BertForSequenceClassification model from a BertForPreTraining model).\n",
      "- This IS NOT expected if you are initializing AlbertModel from the checkpoint of a model that you expect to be exactly identical (initializing a BertForSequenceClassification model from a BertForSequenceClassification model).\n"
     ]
    },
    {
     "name": "stdout",
     "output_type": "stream",
     "text": [
      "Training on device: cuda\n"
     ]
    },
    {
     "name": "stderr",
     "output_type": "stream",
     "text": [
      "100%|██████████| 254/254 [01:43<00:00,  2.44it/s]\n"
     ]
    },
    {
     "name": "stdout",
     "output_type": "stream",
     "text": [
      "Epochs: 1 | Train Loss:  0.021 | Train Accuracy:  0.541 | Val Loss:  0.022 | Val Accuracy:  0.498\n"
     ]
    },
    {
     "name": "stderr",
     "output_type": "stream",
     "text": [
      "100%|██████████| 254/254 [01:44<00:00,  2.44it/s]\n"
     ]
    },
    {
     "name": "stdout",
     "output_type": "stream",
     "text": [
      "Epochs: 2 | Train Loss:  0.022 | Train Accuracy:  0.511 | Val Loss:  0.022 | Val Accuracy:  0.488\n"
     ]
    },
    {
     "name": "stderr",
     "output_type": "stream",
     "text": [
      "100%|██████████| 254/254 [01:44<00:00,  2.44it/s]\n"
     ]
    },
    {
     "name": "stdout",
     "output_type": "stream",
     "text": [
      "Epochs: 3 | Train Loss:  0.020 | Train Accuracy:  0.592 | Val Loss:  0.017 | Val Accuracy:  0.766\n"
     ]
    },
    {
     "name": "stderr",
     "output_type": "stream",
     "text": [
      "100%|██████████| 254/254 [01:44<00:00,  2.44it/s]\n"
     ]
    },
    {
     "name": "stdout",
     "output_type": "stream",
     "text": [
      "Epochs: 4 | Train Loss:  0.017 | Train Accuracy:  0.757 | Val Loss:  0.017 | Val Accuracy:  0.782\n",
      "Test Accuracy:  0.787\n",
      "                precision    recall  f1-score   support\n",
      "\n",
      "not_mysogynous       0.75      0.84      0.79       484\n",
      "    mysogynous       0.83      0.73      0.78       516\n",
      "\n",
      "      accuracy                           0.79      1000\n",
      "     macro avg       0.79      0.79      0.79      1000\n",
      "  weighted avg       0.79      0.79      0.79      1000\n",
      "\n"
     ]
    },
    {
     "name": "stderr",
     "output_type": "stream",
     "text": [
      "Some weights of the model checkpoint at roberta-base were not used when initializing RobertaModel: ['lm_head.decoder.weight', 'lm_head.dense.weight', 'lm_head.layer_norm.bias', 'lm_head.layer_norm.weight', 'lm_head.bias', 'lm_head.dense.bias']\n",
      "- This IS expected if you are initializing RobertaModel from the checkpoint of a model trained on another task or with another architecture (e.g. initializing a BertForSequenceClassification model from a BertForPreTraining model).\n",
      "- This IS NOT expected if you are initializing RobertaModel from the checkpoint of a model that you expect to be exactly identical (initializing a BertForSequenceClassification model from a BertForSequenceClassification model).\n"
     ]
    },
    {
     "name": "stdout",
     "output_type": "stream",
     "text": [
      "Training on device: cuda\n"
     ]
    },
    {
     "name": "stderr",
     "output_type": "stream",
     "text": [
      "100%|██████████| 254/254 [01:40<00:00,  2.53it/s]\n"
     ]
    },
    {
     "name": "stdout",
     "output_type": "stream",
     "text": [
      "Epochs: 1 | Train Loss:  0.018 | Train Accuracy:  0.705 | Val Loss:  0.016 | Val Accuracy:  0.796\n"
     ]
    },
    {
     "name": "stderr",
     "output_type": "stream",
     "text": [
      "100%|██████████| 254/254 [01:40<00:00,  2.53it/s]\n"
     ]
    },
    {
     "name": "stdout",
     "output_type": "stream",
     "text": [
      "Epochs: 2 | Train Loss:  0.015 | Train Accuracy:  0.828 | Val Loss:  0.016 | Val Accuracy:  0.800\n"
     ]
    },
    {
     "name": "stderr",
     "output_type": "stream",
     "text": [
      "100%|██████████| 254/254 [01:40<00:00,  2.53it/s]\n"
     ]
    },
    {
     "name": "stdout",
     "output_type": "stream",
     "text": [
      "Epochs: 3 | Train Loss:  0.014 | Train Accuracy:  0.875 | Val Loss:  0.016 | Val Accuracy:  0.801\n"
     ]
    },
    {
     "name": "stderr",
     "output_type": "stream",
     "text": [
      "100%|██████████| 254/254 [01:40<00:00,  2.53it/s]\n"
     ]
    },
    {
     "name": "stdout",
     "output_type": "stream",
     "text": [
      "Epochs: 4 | Train Loss:  0.013 | Train Accuracy:  0.900 | Val Loss:  0.016 | Val Accuracy:  0.797\n",
      "Test Accuracy:  0.797\n",
      "                precision    recall  f1-score   support\n",
      "\n",
      "not_mysogynous       0.78      0.81      0.79       484\n",
      "    mysogynous       0.82      0.78      0.80       516\n",
      "\n",
      "      accuracy                           0.80      1000\n",
      "     macro avg       0.80      0.80      0.80      1000\n",
      "  weighted avg       0.80      0.80      0.80      1000\n",
      "\n"
     ]
    },
    {
     "name": "stderr",
     "output_type": "stream",
     "text": [
      "Some weights of the model checkpoint at distilbert-base-uncased were not used when initializing DistilBertModel: ['vocab_transform.bias', 'vocab_transform.weight', 'vocab_layer_norm.bias', 'vocab_layer_norm.weight', 'vocab_projector.bias', 'vocab_projector.weight']\n",
      "- This IS expected if you are initializing DistilBertModel from the checkpoint of a model trained on another task or with another architecture (e.g. initializing a BertForSequenceClassification model from a BertForPreTraining model).\n",
      "- This IS NOT expected if you are initializing DistilBertModel from the checkpoint of a model that you expect to be exactly identical (initializing a BertForSequenceClassification model from a BertForSequenceClassification model).\n"
     ]
    },
    {
     "name": "stdout",
     "output_type": "stream",
     "text": [
      "Training on device: cuda\n"
     ]
    },
    {
     "name": "stderr",
     "output_type": "stream",
     "text": [
      "100%|██████████| 254/254 [00:43<00:00,  5.81it/s]\n"
     ]
    },
    {
     "name": "stdout",
     "output_type": "stream",
     "text": [
      "Epochs: 1 | Train Loss:  0.018 | Train Accuracy:  0.710 | Val Loss:  0.016 | Val Accuracy:  0.791\n"
     ]
    },
    {
     "name": "stderr",
     "output_type": "stream",
     "text": [
      "100%|██████████| 254/254 [00:43<00:00,  5.79it/s]\n"
     ]
    },
    {
     "name": "stdout",
     "output_type": "stream",
     "text": [
      "Epochs: 2 | Train Loss:  0.015 | Train Accuracy:  0.826 | Val Loss:  0.016 | Val Accuracy:  0.798\n"
     ]
    },
    {
     "name": "stderr",
     "output_type": "stream",
     "text": [
      "100%|██████████| 254/254 [00:43<00:00,  5.78it/s]\n"
     ]
    },
    {
     "name": "stdout",
     "output_type": "stream",
     "text": [
      "Epochs: 3 | Train Loss:  0.014 | Train Accuracy:  0.877 | Val Loss:  0.016 | Val Accuracy:  0.801\n"
     ]
    },
    {
     "name": "stderr",
     "output_type": "stream",
     "text": [
      "100%|██████████| 254/254 [00:43<00:00,  5.78it/s]\n"
     ]
    },
    {
     "name": "stdout",
     "output_type": "stream",
     "text": [
      "Epochs: 4 | Train Loss:  0.013 | Train Accuracy:  0.912 | Val Loss:  0.017 | Val Accuracy:  0.776\n",
      "Test Accuracy:  0.792\n",
      "                precision    recall  f1-score   support\n",
      "\n",
      "not_mysogynous       0.74      0.89      0.81       484\n",
      "    mysogynous       0.87      0.70      0.78       516\n",
      "\n",
      "      accuracy                           0.79      1000\n",
      "     macro avg       0.80      0.80      0.79      1000\n",
      "  weighted avg       0.81      0.79      0.79      1000\n",
      "\n"
     ]
    }
   ],
   "source": [
    "model_info_A = []\n",
    "class_reports_A = {}\n",
    "tokenizer_model_funcs = {\n",
    "    'bert': get_bert_tokenizer_and_model,\n",
    "    'albert': get_albert_tokenizer_and_model,\n",
    "    'robert': get_robert_tokenizer_and_model,\n",
    "    'distilbert': get_distilbert_tokenizer_and_model   \n",
    "}\n",
    "df_train, df_val, df_test = train_val_test_split(df)\n",
    "for name, func in tokenizer_model_funcs.items():\n",
    "    torch.cuda.empty_cache()\n",
    "    tokenizer, bert_model = func()\n",
    "    model = TransformerClassifier(bert_model, num_labels=2)\n",
    "    train(model, tokenizer, df_train, df_val, 'A', learning_rate=1e-5, batch_size=32, epochs=4, use_cuda=True)\n",
    "    bert_outputs, masks, y_true, y_pred = evaluate(model, tokenizer, df_test, 'A', batch_size=32, use_cuda=True)\n",
    "    # print(y_true)\n",
    "    # print(y_pred)\n",
    "    model_info_A.append((bert_outputs, masks, y_true, y_pred))\n",
    "    class_report = classification_report(y_true, y_pred, target_names=target_names_A)\n",
    "    print(class_report)\n",
    "    class_reports_A[name] = class_report"
   ]
  },
  {
   "cell_type": "code",
   "execution_count": 12,
   "metadata": {},
   "outputs": [
    {
     "name": "stdout",
     "output_type": "stream",
     "text": [
      "bert\n",
      "                precision    recall  f1-score   support\n",
      "\n",
      "not_mysogynous       0.75      0.89      0.81       484\n",
      "    mysogynous       0.88      0.72      0.79       516\n",
      "\n",
      "      accuracy                           0.80      1000\n",
      "     macro avg       0.81      0.80      0.80      1000\n",
      "  weighted avg       0.81      0.80      0.80      1000\n",
      "\n",
      "\n",
      "albert\n",
      "                precision    recall  f1-score   support\n",
      "\n",
      "not_mysogynous       0.75      0.84      0.79       484\n",
      "    mysogynous       0.83      0.73      0.78       516\n",
      "\n",
      "      accuracy                           0.79      1000\n",
      "     macro avg       0.79      0.79      0.79      1000\n",
      "  weighted avg       0.79      0.79      0.79      1000\n",
      "\n",
      "\n",
      "robert\n",
      "                precision    recall  f1-score   support\n",
      "\n",
      "not_mysogynous       0.78      0.81      0.79       484\n",
      "    mysogynous       0.82      0.78      0.80       516\n",
      "\n",
      "      accuracy                           0.80      1000\n",
      "     macro avg       0.80      0.80      0.80      1000\n",
      "  weighted avg       0.80      0.80      0.80      1000\n",
      "\n",
      "\n",
      "distilbert\n",
      "                precision    recall  f1-score   support\n",
      "\n",
      "not_mysogynous       0.74      0.89      0.81       484\n",
      "    mysogynous       0.87      0.70      0.78       516\n",
      "\n",
      "      accuracy                           0.79      1000\n",
      "     macro avg       0.80      0.80      0.79      1000\n",
      "  weighted avg       0.81      0.79      0.79      1000\n",
      "\n",
      "\n"
     ]
    }
   ],
   "source": [
    "for name, report in class_reports_A.items():\n",
    "    print(name)\n",
    "    print(report)\n",
    "    print()"
   ]
  },
  {
   "cell_type": "code",
   "execution_count": 16,
   "metadata": {},
   "outputs": [],
   "source": [
    "BEST_MODEL_INDEX = 0"
   ]
  },
  {
   "cell_type": "code",
   "execution_count": 17,
   "metadata": {},
   "outputs": [
    {
     "name": "stderr",
     "output_type": "stream",
     "text": [
      "/home/nca/anaconda3/envs/martin/lib/python3.8/site-packages/sklearn/manifold/_t_sne.py:982: FutureWarning: The PCA initialization in TSNE will change to have the standard deviation of PC1 equal to 1e-4 in 1.2. This will ensure better convergence.\n",
      "  warnings.warn(\n"
     ]
    },
    {
     "data": {
      "text/plain": [
       "<AxesSubplot:xlabel='x', ylabel='y'>"
      ]
     },
     "execution_count": 17,
     "metadata": {},
     "output_type": "execute_result"
    },
    {
     "data": {
      "image/png": "[encoded data removed]",
      "text/plain": [
       "<Figure size 864x576 with 1 Axes>"
      ]
     },
     "metadata": {
      "needs_background": "light"
     },
     "output_type": "display_data"
    }
   ],
   "source": [
    "bert_outputs, masks, y_true, y_pred = model_info_A[BEST_MODEL_INDEX]\n",
    "bert_averaged = torch.div(torch.stack(bert_outputs).sum(dim=1), torch.stack(masks).sum(dim=1, keepdim=True))\n",
    "bert_dim_reduced_embeds = TSNE(init='pca', learning_rate='auto').fit_transform(bert_averaged.numpy())\n",
    "df_tsne = pd.DataFrame(bert_dim_reduced_embeds, columns=['x', 'y'])\n",
    "_, ax = plt.subplots(figsize=(12, 8))\n",
    "sns.scatterplot(x='x', y='y', data=df_tsne, hue=[target_names_A[p] for p in y_pred])"
   ]
  },
  {
   "cell_type": "markdown",
   "metadata": {},
   "source": [
    "## Subtask B"
   ]
  },
  {
   "cell_type": "code",
   "execution_count": 18,
   "metadata": {},
   "outputs": [],
   "source": [
    "target_names_B = ['shaming', 'stereotype', 'objectification', 'violence']"
   ]
  },
  {
   "cell_type": "code",
   "execution_count": 19,
   "metadata": {},
   "outputs": [
    {
     "name": "stderr",
     "output_type": "stream",
     "text": [
      "Some weights of the model checkpoint at bert-base-uncased were not used when initializing BertModel: ['cls.predictions.transform.dense.bias', 'cls.predictions.transform.LayerNorm.bias', 'cls.seq_relationship.bias', 'cls.predictions.bias', 'cls.predictions.transform.dense.weight', 'cls.predictions.decoder.weight', 'cls.predictions.transform.LayerNorm.weight', 'cls.seq_relationship.weight']\n",
      "- This IS expected if you are initializing BertModel from the checkpoint of a model trained on another task or with another architecture (e.g. initializing a BertForSequenceClassification model from a BertForPreTraining model).\n",
      "- This IS NOT expected if you are initializing BertModel from the checkpoint of a model that you expect to be exactly identical (initializing a BertForSequenceClassification model from a BertForSequenceClassification model).\n"
     ]
    },
    {
     "name": "stdout",
     "output_type": "stream",
     "text": [
      "Training on device: cuda\n"
     ]
    },
    {
     "name": "stderr",
     "output_type": "stream",
     "text": [
      "100%|██████████| 127/127 [00:27<00:00,  4.65it/s]\n"
     ]
    },
    {
     "name": "stdout",
     "output_type": "stream",
     "text": [
      "Epochs: 1 | Train Loss:  0.060 | Train Accuracy:  0.432 | Val Loss:  0.059 | Val Accuracy:  0.484\n"
     ]
    },
    {
     "name": "stderr",
     "output_type": "stream",
     "text": [
      "100%|██████████| 127/127 [00:27<00:00,  4.63it/s]\n"
     ]
    },
    {
     "name": "stdout",
     "output_type": "stream",
     "text": [
      "Epochs: 2 | Train Loss:  0.057 | Train Accuracy:  0.497 | Val Loss:  0.058 | Val Accuracy:  0.513\n"
     ]
    },
    {
     "name": "stderr",
     "output_type": "stream",
     "text": [
      "100%|██████████| 127/127 [00:27<00:00,  4.62it/s]\n"
     ]
    },
    {
     "name": "stdout",
     "output_type": "stream",
     "text": [
      "Epochs: 3 | Train Loss:  0.055 | Train Accuracy:  0.555 | Val Loss:  0.058 | Val Accuracy:  0.509\n"
     ]
    },
    {
     "name": "stderr",
     "output_type": "stream",
     "text": [
      "100%|██████████| 127/127 [00:27<00:00,  4.61it/s]\n"
     ]
    },
    {
     "name": "stdout",
     "output_type": "stream",
     "text": [
      "Epochs: 4 | Train Loss:  0.054 | Train Accuracy:  0.579 | Val Loss:  0.058 | Val Accuracy:  0.520\n",
      "Test Accuracy:  0.514\n",
      "                 precision    recall  f1-score   support\n",
      "\n",
      "        shaming       1.00      0.01      0.01       141\n",
      "     stereotype       0.61      0.76      0.67       226\n",
      "objectification       0.39      0.79      0.52       108\n",
      "       violence       0.00      0.00      0.00        25\n",
      "\n",
      "       accuracy                           0.51       500\n",
      "      macro avg       0.50      0.39      0.30       500\n",
      "   weighted avg       0.64      0.51      0.42       500\n",
      "\n"
     ]
    },
    {
     "name": "stderr",
     "output_type": "stream",
     "text": [
      "/home/nca/anaconda3/envs/martin/lib/python3.8/site-packages/sklearn/metrics/_classification.py:1318: UndefinedMetricWarning: Precision and F-score are ill-defined and being set to 0.0 in labels with no predicted samples. Use `zero_division` parameter to control this behavior.\n",
      "  _warn_prf(average, modifier, msg_start, len(result))\n",
      "/home/nca/anaconda3/envs/martin/lib/python3.8/site-packages/sklearn/metrics/_classification.py:1318: UndefinedMetricWarning: Precision and F-score are ill-defined and being set to 0.0 in labels with no predicted samples. Use `zero_division` parameter to control this behavior.\n",
      "  _warn_prf(average, modifier, msg_start, len(result))\n",
      "/home/nca/anaconda3/envs/martin/lib/python3.8/site-packages/sklearn/metrics/_classification.py:1318: UndefinedMetricWarning: Precision and F-score are ill-defined and being set to 0.0 in labels with no predicted samples. Use `zero_division` parameter to control this behavior.\n",
      "  _warn_prf(average, modifier, msg_start, len(result))\n",
      "Some weights of the model checkpoint at albert-base-v2 were not used when initializing AlbertModel: ['predictions.dense.bias', 'predictions.dense.weight', 'predictions.decoder.bias', 'predictions.LayerNorm.bias', 'predictions.bias', 'predictions.LayerNorm.weight', 'predictions.decoder.weight']\n",
      "- This IS expected if you are initializing AlbertModel from the checkpoint of a model trained on another task or with another architecture (e.g. initializing a BertForSequenceClassification model from a BertForPreTraining model).\n",
      "- This IS NOT expected if you are initializing AlbertModel from the checkpoint of a model that you expect to be exactly identical (initializing a BertForSequenceClassification model from a BertForSequenceClassification model).\n"
     ]
    },
    {
     "name": "stdout",
     "output_type": "stream",
     "text": [
      "Training on device: cuda\n"
     ]
    },
    {
     "name": "stderr",
     "output_type": "stream",
     "text": [
      "100%|██████████| 127/127 [00:33<00:00,  3.76it/s]\n"
     ]
    },
    {
     "name": "stdout",
     "output_type": "stream",
     "text": [
      "Epochs: 1 | Train Loss:  0.060 | Train Accuracy:  0.411 | Val Loss:  0.060 | Val Accuracy:  0.458\n"
     ]
    },
    {
     "name": "stderr",
     "output_type": "stream",
     "text": [
      "100%|██████████| 127/127 [00:33<00:00,  3.75it/s]\n"
     ]
    },
    {
     "name": "stdout",
     "output_type": "stream",
     "text": [
      "Epochs: 2 | Train Loss:  0.058 | Train Accuracy:  0.477 | Val Loss:  0.059 | Val Accuracy:  0.504\n"
     ]
    },
    {
     "name": "stderr",
     "output_type": "stream",
     "text": [
      "100%|██████████| 127/127 [00:33<00:00,  3.74it/s]\n"
     ]
    },
    {
     "name": "stdout",
     "output_type": "stream",
     "text": [
      "Epochs: 3 | Train Loss:  0.056 | Train Accuracy:  0.509 | Val Loss:  0.059 | Val Accuracy:  0.502\n"
     ]
    },
    {
     "name": "stderr",
     "output_type": "stream",
     "text": [
      "100%|██████████| 127/127 [00:33<00:00,  3.74it/s]\n"
     ]
    },
    {
     "name": "stdout",
     "output_type": "stream",
     "text": [
      "Epochs: 4 | Train Loss:  0.056 | Train Accuracy:  0.533 | Val Loss:  0.059 | Val Accuracy:  0.493\n",
      "Test Accuracy:  0.524\n",
      "                 precision    recall  f1-score   support\n",
      "\n",
      "        shaming       0.00      0.00      0.00       141\n",
      "     stereotype       0.61      0.81      0.69       226\n",
      "objectification       0.40      0.74      0.52       108\n",
      "       violence       0.00      0.00      0.00        25\n",
      "\n",
      "       accuracy                           0.52       500\n",
      "      macro avg       0.25      0.39      0.30       500\n",
      "   weighted avg       0.36      0.52      0.42       500\n",
      "\n"
     ]
    },
    {
     "name": "stderr",
     "output_type": "stream",
     "text": [
      "/home/nca/anaconda3/envs/martin/lib/python3.8/site-packages/sklearn/metrics/_classification.py:1318: UndefinedMetricWarning: Precision and F-score are ill-defined and being set to 0.0 in labels with no predicted samples. Use `zero_division` parameter to control this behavior.\n",
      "  _warn_prf(average, modifier, msg_start, len(result))\n",
      "/home/nca/anaconda3/envs/martin/lib/python3.8/site-packages/sklearn/metrics/_classification.py:1318: UndefinedMetricWarning: Precision and F-score are ill-defined and being set to 0.0 in labels with no predicted samples. Use `zero_division` parameter to control this behavior.\n",
      "  _warn_prf(average, modifier, msg_start, len(result))\n",
      "/home/nca/anaconda3/envs/martin/lib/python3.8/site-packages/sklearn/metrics/_classification.py:1318: UndefinedMetricWarning: Precision and F-score are ill-defined and being set to 0.0 in labels with no predicted samples. Use `zero_division` parameter to control this behavior.\n",
      "  _warn_prf(average, modifier, msg_start, len(result))\n",
      "Some weights of the model checkpoint at roberta-base were not used when initializing RobertaModel: ['lm_head.decoder.weight', 'lm_head.dense.weight', 'lm_head.layer_norm.bias', 'lm_head.layer_norm.weight', 'lm_head.bias', 'lm_head.dense.bias']\n",
      "- This IS expected if you are initializing RobertaModel from the checkpoint of a model trained on another task or with another architecture (e.g. initializing a BertForSequenceClassification model from a BertForPreTraining model).\n",
      "- This IS NOT expected if you are initializing RobertaModel from the checkpoint of a model that you expect to be exactly identical (initializing a BertForSequenceClassification model from a BertForSequenceClassification model).\n"
     ]
    },
    {
     "name": "stdout",
     "output_type": "stream",
     "text": [
      "Training on device: cuda\n"
     ]
    },
    {
     "name": "stderr",
     "output_type": "stream",
     "text": [
      "100%|██████████| 127/127 [00:27<00:00,  4.60it/s]\n"
     ]
    },
    {
     "name": "stdout",
     "output_type": "stream",
     "text": [
      "Epochs: 1 | Train Loss:  0.059 | Train Accuracy:  0.420 | Val Loss:  0.059 | Val Accuracy:  0.476\n"
     ]
    },
    {
     "name": "stderr",
     "output_type": "stream",
     "text": [
      "100%|██████████| 127/127 [00:27<00:00,  4.59it/s]\n"
     ]
    },
    {
     "name": "stdout",
     "output_type": "stream",
     "text": [
      "Epochs: 2 | Train Loss:  0.057 | Train Accuracy:  0.492 | Val Loss:  0.059 | Val Accuracy:  0.489\n"
     ]
    },
    {
     "name": "stderr",
     "output_type": "stream",
     "text": [
      "100%|██████████| 127/127 [00:27<00:00,  4.58it/s]\n"
     ]
    },
    {
     "name": "stdout",
     "output_type": "stream",
     "text": [
      "Epochs: 3 | Train Loss:  0.055 | Train Accuracy:  0.542 | Val Loss:  0.058 | Val Accuracy:  0.489\n"
     ]
    },
    {
     "name": "stderr",
     "output_type": "stream",
     "text": [
      "100%|██████████| 127/127 [00:27<00:00,  4.58it/s]\n"
     ]
    },
    {
     "name": "stdout",
     "output_type": "stream",
     "text": [
      "Epochs: 4 | Train Loss:  0.054 | Train Accuracy:  0.608 | Val Loss:  0.058 | Val Accuracy:  0.511\n",
      "Test Accuracy:  0.546\n",
      "                 precision    recall  f1-score   support\n",
      "\n",
      "        shaming       0.86      0.13      0.22       141\n",
      "     stereotype       0.61      0.81      0.70       226\n",
      "objectification       0.40      0.67      0.50       108\n",
      "       violence       0.00      0.00      0.00        25\n",
      "\n",
      "       accuracy                           0.55       500\n",
      "      macro avg       0.47      0.40      0.35       500\n",
      "   weighted avg       0.60      0.55      0.49       500\n",
      "\n"
     ]
    },
    {
     "name": "stderr",
     "output_type": "stream",
     "text": [
      "/home/nca/anaconda3/envs/martin/lib/python3.8/site-packages/sklearn/metrics/_classification.py:1318: UndefinedMetricWarning: Precision and F-score are ill-defined and being set to 0.0 in labels with no predicted samples. Use `zero_division` parameter to control this behavior.\n",
      "  _warn_prf(average, modifier, msg_start, len(result))\n",
      "/home/nca/anaconda3/envs/martin/lib/python3.8/site-packages/sklearn/metrics/_classification.py:1318: UndefinedMetricWarning: Precision and F-score are ill-defined and being set to 0.0 in labels with no predicted samples. Use `zero_division` parameter to control this behavior.\n",
      "  _warn_prf(average, modifier, msg_start, len(result))\n",
      "/home/nca/anaconda3/envs/martin/lib/python3.8/site-packages/sklearn/metrics/_classification.py:1318: UndefinedMetricWarning: Precision and F-score are ill-defined and being set to 0.0 in labels with no predicted samples. Use `zero_division` parameter to control this behavior.\n",
      "  _warn_prf(average, modifier, msg_start, len(result))\n",
      "Some weights of the model checkpoint at distilbert-base-uncased were not used when initializing DistilBertModel: ['vocab_transform.bias', 'vocab_transform.weight', 'vocab_layer_norm.bias', 'vocab_layer_norm.weight', 'vocab_projector.bias', 'vocab_projector.weight']\n",
      "- This IS expected if you are initializing DistilBertModel from the checkpoint of a model trained on another task or with another architecture (e.g. initializing a BertForSequenceClassification model from a BertForPreTraining model).\n",
      "- This IS NOT expected if you are initializing DistilBertModel from the checkpoint of a model that you expect to be exactly identical (initializing a BertForSequenceClassification model from a BertForSequenceClassification model).\n"
     ]
    },
    {
     "name": "stdout",
     "output_type": "stream",
     "text": [
      "Training on device: cuda\n"
     ]
    },
    {
     "name": "stderr",
     "output_type": "stream",
     "text": [
      "100%|██████████| 127/127 [00:14<00:00,  8.88it/s]\n"
     ]
    },
    {
     "name": "stdout",
     "output_type": "stream",
     "text": [
      "Epochs: 1 | Train Loss:  0.059 | Train Accuracy:  0.424 | Val Loss:  0.060 | Val Accuracy:  0.476\n"
     ]
    },
    {
     "name": "stderr",
     "output_type": "stream",
     "text": [
      "100%|██████████| 127/127 [00:14<00:00,  8.87it/s]\n"
     ]
    },
    {
     "name": "stdout",
     "output_type": "stream",
     "text": [
      "Epochs: 2 | Train Loss:  0.057 | Train Accuracy:  0.497 | Val Loss:  0.060 | Val Accuracy:  0.480\n"
     ]
    },
    {
     "name": "stderr",
     "output_type": "stream",
     "text": [
      "100%|██████████| 127/127 [00:14<00:00,  8.86it/s]\n"
     ]
    },
    {
     "name": "stdout",
     "output_type": "stream",
     "text": [
      "Epochs: 3 | Train Loss:  0.055 | Train Accuracy:  0.540 | Val Loss:  0.059 | Val Accuracy:  0.498\n"
     ]
    },
    {
     "name": "stderr",
     "output_type": "stream",
     "text": [
      "100%|██████████| 127/127 [00:14<00:00,  8.85it/s]\n"
     ]
    },
    {
     "name": "stdout",
     "output_type": "stream",
     "text": [
      "Epochs: 4 | Train Loss:  0.054 | Train Accuracy:  0.563 | Val Loss:  0.059 | Val Accuracy:  0.493\n",
      "Test Accuracy:  0.518\n",
      "                 precision    recall  f1-score   support\n",
      "\n",
      "        shaming       1.00      0.01      0.01       141\n",
      "     stereotype       0.61      0.77      0.68       226\n",
      "objectification       0.39      0.77      0.52       108\n",
      "       violence       0.00      0.00      0.00        25\n",
      "\n",
      "       accuracy                           0.52       500\n",
      "      macro avg       0.50      0.39      0.30       500\n",
      "   weighted avg       0.64      0.52      0.42       500\n",
      "\n"
     ]
    },
    {
     "name": "stderr",
     "output_type": "stream",
     "text": [
      "/home/nca/anaconda3/envs/martin/lib/python3.8/site-packages/sklearn/metrics/_classification.py:1318: UndefinedMetricWarning: Precision and F-score are ill-defined and being set to 0.0 in labels with no predicted samples. Use `zero_division` parameter to control this behavior.\n",
      "  _warn_prf(average, modifier, msg_start, len(result))\n",
      "/home/nca/anaconda3/envs/martin/lib/python3.8/site-packages/sklearn/metrics/_classification.py:1318: UndefinedMetricWarning: Precision and F-score are ill-defined and being set to 0.0 in labels with no predicted samples. Use `zero_division` parameter to control this behavior.\n",
      "  _warn_prf(average, modifier, msg_start, len(result))\n",
      "/home/nca/anaconda3/envs/martin/lib/python3.8/site-packages/sklearn/metrics/_classification.py:1318: UndefinedMetricWarning: Precision and F-score are ill-defined and being set to 0.0 in labels with no predicted samples. Use `zero_division` parameter to control this behavior.\n",
      "  _warn_prf(average, modifier, msg_start, len(result))\n"
     ]
    }
   ],
   "source": [
    "model_info_B = []\n",
    "class_reports_B = {}\n",
    "tokenizer_model_funcs = {\n",
    "    'bert': get_bert_tokenizer_and_model,\n",
    "    'albert': get_albert_tokenizer_and_model,\n",
    "    'robert': get_robert_tokenizer_and_model,\n",
    "    'distilbert': get_distilbert_tokenizer_and_model   \n",
    "}\n",
    "df_train, df_val, df_test = train_val_test_split(df[df['misogynous'] == 1])\n",
    "for name, func in tokenizer_model_funcs.items():\n",
    "    torch.cuda.empty_cache()\n",
    "    tokenizer, bert_model = func()\n",
    "    model = TransformerClassifier(bert_model, num_labels=4)\n",
    "    train(model, tokenizer, df_train, df_val, 'B', learning_rate=1e-5, batch_size=32, epochs=4, use_cuda=True)\n",
    "    bert_outputs, masks, y_true, y_pred = evaluate(model, tokenizer, df_test, 'B', batch_size=32, use_cuda=True)\n",
    "    # print(y_true)\n",
    "    # print(y_pred)\n",
    "    model_info_B.append((bert_outputs, masks, y_true, y_pred))\n",
    "    class_report = classification_report(y_true, y_pred, target_names=target_names_B)\n",
    "    print(class_report)\n",
    "    class_reports_B[name] = class_report"
   ]
  },
  {
   "cell_type": "code",
   "execution_count": 20,
   "metadata": {},
   "outputs": [
    {
     "name": "stdout",
     "output_type": "stream",
     "text": [
      "bert\n",
      "                 precision    recall  f1-score   support\n",
      "\n",
      "        shaming       1.00      0.01      0.01       141\n",
      "     stereotype       0.61      0.76      0.67       226\n",
      "objectification       0.39      0.79      0.52       108\n",
      "       violence       0.00      0.00      0.00        25\n",
      "\n",
      "       accuracy                           0.51       500\n",
      "      macro avg       0.50      0.39      0.30       500\n",
      "   weighted avg       0.64      0.51      0.42       500\n",
      "\n",
      "\n",
      "albert\n",
      "                 precision    recall  f1-score   support\n",
      "\n",
      "        shaming       0.00      0.00      0.00       141\n",
      "     stereotype       0.61      0.81      0.69       226\n",
      "objectification       0.40      0.74      0.52       108\n",
      "       violence       0.00      0.00      0.00        25\n",
      "\n",
      "       accuracy                           0.52       500\n",
      "      macro avg       0.25      0.39      0.30       500\n",
      "   weighted avg       0.36      0.52      0.42       500\n",
      "\n",
      "\n",
      "robert\n",
      "                 precision    recall  f1-score   support\n",
      "\n",
      "        shaming       0.86      0.13      0.22       141\n",
      "     stereotype       0.61      0.81      0.70       226\n",
      "objectification       0.40      0.67      0.50       108\n",
      "       violence       0.00      0.00      0.00        25\n",
      "\n",
      "       accuracy                           0.55       500\n",
      "      macro avg       0.47      0.40      0.35       500\n",
      "   weighted avg       0.60      0.55      0.49       500\n",
      "\n",
      "\n",
      "distilbert\n",
      "                 precision    recall  f1-score   support\n",
      "\n",
      "        shaming       1.00      0.01      0.01       141\n",
      "     stereotype       0.61      0.77      0.68       226\n",
      "objectification       0.39      0.77      0.52       108\n",
      "       violence       0.00      0.00      0.00        25\n",
      "\n",
      "       accuracy                           0.52       500\n",
      "      macro avg       0.50      0.39      0.30       500\n",
      "   weighted avg       0.64      0.52      0.42       500\n",
      "\n",
      "\n"
     ]
    }
   ],
   "source": [
    "for name, report in class_reports_B.items():\n",
    "    print(name)\n",
    "    print(report)\n",
    "    print()"
   ]
  },
  {
   "cell_type": "markdown",
   "metadata": {},
   "source": [
    "## Conclusion"
   ]
  },
  {
   "cell_type": "markdown",
   "metadata": {},
   "source": [
    "All bert based tokenizers and models show a similar performance. Compared to the models from lab 2 I got better results.\n",
    "But for lab2 I didn't filter out the memes with misogynous == 1, so they are not really comparable."
   ]
  }
 ],
 "metadata": {
  "interpreter": {
   "hash": "7e80fdab2d3ad9efed371898a93eb8b1ed0f8415180d1e274f951213442b4295"
  },
  "kernelspec": {
   "display_name": "Python 3.8.11 64-bit ('py38_ml': conda)",
   "language": "python",
   "name": "python3"
  },
  "language_info": {
   "codemirror_mode": {
    "name": "ipython",
    "version": 3
   },
   "file_extension": ".py",
   "mimetype": "text/x-python",
   "name": "python",
   "nbconvert_exporter": "python",
   "pygments_lexer": "ipython3",
   "version": "3.8.12"
  },
  "orig_nbformat": 4
 },
 "nbformat": 4,
 "nbformat_minor": 2
}
